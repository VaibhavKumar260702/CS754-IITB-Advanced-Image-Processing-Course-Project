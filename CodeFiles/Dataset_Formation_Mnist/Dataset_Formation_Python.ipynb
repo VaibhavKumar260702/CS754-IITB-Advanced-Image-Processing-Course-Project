{
 "cells": [
  {
   "cell_type": "code",
   "execution_count": 1,
   "id": "75404b81",
   "metadata": {},
   "outputs": [],
   "source": [
    "import numpy as np\n",
    "import pandas as pd"
   ]
  },
  {
   "cell_type": "markdown",
   "id": "edf80f0f",
   "metadata": {},
   "source": [
    "### Getting data ready for Mnist dataset"
   ]
  },
  {
   "cell_type": "code",
   "execution_count": 2,
   "id": "163137cd",
   "metadata": {},
   "outputs": [],
   "source": [
    "# function for pre-processing\n",
    "def get_data(csv_path):\n",
    "    mnist_data=pd.read_csv(csv_path)\n",
    "    mnist_data0=mnist_data[mnist_data['label'] ==0]\n",
    "    mnist_data0.reset_index(inplace = True, drop=True)\n",
    "    mnist_data0=mnist_data0.drop(columns=[\"label\"])\n",
    "    mnist_data0=(mnist_data0.to_numpy()).T\n",
    "    return mnist_data0, mnist_data0.shape[0], mnist_data0.shape[1]"
   ]
  },
  {
   "cell_type": "code",
   "execution_count": 3,
   "id": "e29ae0ba",
   "metadata": {},
   "outputs": [],
   "source": [
    "mnist_1,mnist_1r,mnist_1c=get_data(\"mnist_1.csv\")\n",
    "mnist_2,mnist_2r,mnist_2c=get_data(\"mnist_2.csv\")"
   ]
  },
  {
   "cell_type": "code",
   "execution_count": 4,
   "id": "ac30a005",
   "metadata": {},
   "outputs": [],
   "source": [
    "# concatenating the two datasets\n",
    "mnist_final=np.concatenate((mnist_1, mnist_2), axis=1)"
   ]
  },
  {
   "cell_type": "code",
   "execution_count": 5,
   "id": "214d5882",
   "metadata": {},
   "outputs": [],
   "source": [
    "# converting to dataframe and saving as csv file.\n",
    "mnist_df = pd.DataFrame(mnist_final)\n",
    "mnist_df.to_csv(\"..\\Mnist_dataset.csv\", index=False)"
   ]
  }
 ],
 "metadata": {
  "kernelspec": {
   "display_name": "Python 3 (ipykernel)",
   "language": "python",
   "name": "python3"
  },
  "language_info": {
   "codemirror_mode": {
    "name": "ipython",
    "version": 3
   },
   "file_extension": ".py",
   "mimetype": "text/x-python",
   "name": "python",
   "nbconvert_exporter": "python",
   "pygments_lexer": "ipython3",
   "version": "3.9.7"
  }
 },
 "nbformat": 4,
 "nbformat_minor": 5
}
